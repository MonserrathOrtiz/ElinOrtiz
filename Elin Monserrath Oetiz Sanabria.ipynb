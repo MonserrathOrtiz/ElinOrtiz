{
 "cells": [
  {
   "cell_type": "code",
   "execution_count": null,
   "id": "424d95fe",
   "metadata": {},
   "outputs": [],
   "source": []
  },
  {
   "cell_type": "markdown",
   "id": "c94c2c4a",
   "metadata": {},
   "source": [
    "##El objetivo es crear una pequeña aplicación que pida el año de nacimiento y, al hacer clic en un botón, muestre la edad aproximada de la persona.\n",
    " Instrucciones:\n",
    "  1. Crea una ventana con un título significativo. \n",
    "  2. Agrega una etiqueta (Label) que diga \"Año de nacimiento:\". \n",
    "  3. Agrega una caja de texto (Entry) para que el usuario ingrese el año. \n",
    "  4. Agrega un botón (Button) con el texto \"Calcular Edad\". \n",
    "  5. Agrega otra etiqueta (Label) vacía, donde se mostrará el resultado. \n",
    "  6. Utiliza el gestor de geometría .grid() para organizar los widgets. El diseño debería ser similar al de una tabla. \n",
    "  7. Crea una función que se ejecute al hacer clic en el botón. Esta función debe: \n",
    "  - Obtener el año ingresado por el usuario de la caja de texto. \n",
    "  - Calcular la edad (puedes usar el año actual como 2025 para simplificar). \n",
    "  - Actualizar el texto de la etiqueta de resultado con la edad calculada."
   ]
  },
  {
   "cell_type": "code",
   "execution_count": null,
   "id": "9e1617b9",
   "metadata": {},
   "outputs": [],
   "source": [
    "import tkinter as tk\n",
    "\n",
    "AÑO_ACTUAL = 2025\n",
    "\n",
    "def calcular_edad():\n",
    "    try:\n",
    "        año_nacimiento = int(entry_anio.get())\n",
    "        edad = AÑO_ACTUAL - año_nacimiento\n",
    "        if edad < 0:\n",
    "            label_resultado.config(text=\"El año ingresado es inválido.\")\n",
    "        else:\n",
    "            label_resultado.config(text=f\"Tienes aproximadamente {edad} años.\")\n",
    "    except ValueError:\n",
    "        label_resultado.config(text=\"Por favor, ingresa un año válido.\")\n",
    "\n",
    "ventana = tk.Tk()\n",
    "ventana.title(\"Calculadora de Edad\")\n",
    "\n",
    "label_pregunta = tk.Label(ventana, text=\"Año de nacimiento:\")\n",
    "label_pregunta.grid(row=0, column=0, padx=10, pady=10)\n",
    "\n",
    "entry_anio = tk.Entry(ventana)\n",
    "entry_anio.grid(row=0, column=1, padx=10, pady=10)\n",
    "\n",
    "boton_calcular = tk.Button(ventana, text=\"Calcular Edad\", command=calcular_edad)\n",
    "boton_calcular.grid(row=1, column=0, columnspan=2, pady=10)\n",
    "\n",
    "label_resultado = tk.Label(ventana, text=\"\")\n",
    "label_resultado.grid(row=2, column=0, columnspan=2, pady=10)\n",
    "\n",
    "ventana.mainloop()\n"
   ]
  }
 ],
 "metadata": {
  "language_info": {
   "name": "python"
  }
 },
 "nbformat": 4,
 "nbformat_minor": 5
}
